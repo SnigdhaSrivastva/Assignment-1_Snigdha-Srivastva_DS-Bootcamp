{
  "nbformat": 4,
  "nbformat_minor": 0,
  "metadata": {
    "colab": {
      "provenance": []
    },
    "kernelspec": {
      "name": "python3",
      "display_name": "Python 3"
    },
    "language_info": {
      "name": "python"
    }
  },
  "cells": [
    {
      "cell_type": "markdown",
      "source": [
        "Snigdha Srivastva, NYU Net ID: ss19776"
      ],
      "metadata": {
        "id": "TXJaVWo0ECML"
      }
    },
    {
      "cell_type": "code",
      "execution_count": 29,
      "metadata": {
        "colab": {
          "base_uri": "https://localhost:8080/"
        },
        "id": "OJ83sxIm6ej4",
        "outputId": "ed142b5b-6068-4d51-bc7c-cc144cde4826"
      },
      "outputs": [
        {
          "output_type": "stream",
          "name": "stdout",
          "text": [
            "2\n",
            "8\n"
          ]
        }
      ],
      "source": [
        "# 1. Write a function  count_vowels(word) that takes a word as an argument and returns the number of vowels in the word\n",
        "\n",
        "def count_numberof_vowels(string):\n",
        "    vow = \"aeiouAEIOU\"\n",
        "    count = sum(1 for char in string if char in vow)\n",
        "    return count\n",
        "\n",
        "print(count_numberof_vowels(\"Snigdha\"))\n",
        "print(count_numberof_vowels(\"Data Science Bootcamp\"))"
      ]
    },
    {
      "cell_type": "code",
      "source": [
        "# 2. Iterate through the following list of animals and print each one in all caps.\n",
        "# animals=['tiger', 'elephant', 'monkey', 'zebra', 'panther']\n",
        "\n",
        "animals = ['tiger', 'elephant', 'monkey', 'zebra', 'panther']\n",
        "\n",
        "for animal in animals:\n",
        "    print(animal[0].upper() + animal[1:].lower())"
      ],
      "metadata": {
        "colab": {
          "base_uri": "https://localhost:8080/"
        },
        "id": "yE1YFegOD_GP",
        "outputId": "0b82a92b-d5b3-451e-dc39-883296357028"
      },
      "execution_count": 30,
      "outputs": [
        {
          "output_type": "stream",
          "name": "stdout",
          "text": [
            "Tiger\n",
            "Elephant\n",
            "Monkey\n",
            "Zebra\n",
            "Panther\n"
          ]
        }
      ]
    },
    {
      "cell_type": "code",
      "source": [
        "# 3. Write a program that iterates from 1 to 20, printing each number and whether it's odd or even.\n",
        "\n",
        "for index in range(1, 21):\n",
        "    if index % 2 == 0:\n",
        "        print(f\"{index} is even\")\n",
        "    else:\n",
        "        print(f\"{index} is odd\")"
      ],
      "metadata": {
        "colab": {
          "base_uri": "https://localhost:8080/"
        },
        "id": "gTuBiaMPHQlk",
        "outputId": "29055156-a368-40d7-ea17-46e946da7698"
      },
      "execution_count": 31,
      "outputs": [
        {
          "output_type": "stream",
          "name": "stdout",
          "text": [
            "1 is odd\n",
            "2 is even\n",
            "3 is odd\n",
            "4 is even\n",
            "5 is odd\n",
            "6 is even\n",
            "7 is odd\n",
            "8 is even\n",
            "9 is odd\n",
            "10 is even\n",
            "11 is odd\n",
            "12 is even\n",
            "13 is odd\n",
            "14 is even\n",
            "15 is odd\n",
            "16 is even\n",
            "17 is odd\n",
            "18 is even\n",
            "19 is odd\n",
            "20 is even\n"
          ]
        }
      ]
    },
    {
      "cell_type": "code",
      "source": [
        "# 4. Write a function sum_of_integers(a, b) that takes two integers as input from the user and returns their sum.\n",
        "\n",
        "def sum_of_integers(a, b):\n",
        "    return a + b\n",
        "\n",
        "a = int(input(\"Enter the first integer: \"))\n",
        "b = int(input(\"Enter the second integer: \"))\n",
        "\n",
        "result = sum_of_integers(a, b)\n",
        "print(f\"The sum of {a} and {b} is: {result}\")"
      ],
      "metadata": {
        "colab": {
          "base_uri": "https://localhost:8080/"
        },
        "id": "zPSZwCk8KWBP",
        "outputId": "ee3f5418-5ddd-43c4-955a-6e19ddcb9346"
      },
      "execution_count": 32,
      "outputs": [
        {
          "output_type": "stream",
          "name": "stdout",
          "text": [
            "Enter the first integer: 4\n",
            "Enter the second integer: 6\n",
            "The sum of 4 and 6 is: 10\n"
          ]
        }
      ]
    }
  ]
}